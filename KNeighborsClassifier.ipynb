{
  "nbformat": 4,
  "nbformat_minor": 0,
  "metadata": {
    "colab": {
      "name": "KNeighborsClassifier.ipynb",
      "provenance": []
    },
    "kernelspec": {
      "name": "python3",
      "display_name": "Python 3"
    },
    "language_info": {
      "name": "python"
    }
  },
  "cells": [
    {
      "cell_type": "code",
      "execution_count": 6,
      "metadata": {
        "id": "6hoJVsWd9dvT"
      },
      "outputs": [],
      "source": [
        "import numpy as np\n",
        "from sklearn.datasets import load_breast_cancer\n",
        "from sklearn.model_selection import train_test_split, cross_val_score\n",
        "from sklearn.metrics import accuracy_score\n",
        "from sklearn.neighbors import KNeighborsClassifier\n",
        "from sklearn.model_selection import GridSearchCV"
      ]
    },
    {
      "cell_type": "code",
      "source": [
        "dados = load_breast_cancer()\n",
        "X = dados.data\n",
        "Y = dados.target"
      ],
      "metadata": {
        "id": "ECn7_MAy9hIo"
      },
      "execution_count": 7,
      "outputs": []
    },
    {
      "cell_type": "code",
      "source": [
        "dados_treino, dados_teste, rotulos_treino, rotulos_teste = train_test_split(X, Y,\n",
        "                                                                              test_size = 0.2,\n",
        "                                                                              random_state=42,\n",
        "                                                                              stratify=Y)"
      ],
      "metadata": {
        "id": "97HAUAHO9hK7"
      },
      "execution_count": 8,
      "outputs": []
    },
    {
      "cell_type": "code",
      "source": [
        "param_grid = {'weights': ['uniform', 'distance'],\n",
        "              'n_neighbors': range(1,15,2),\n",
        "              'metric': ['euclidean', 'manhattan']}"
      ],
      "metadata": {
        "id": "FUXPzi-v9hNW"
      },
      "execution_count": 9,
      "outputs": []
    },
    {
      "cell_type": "code",
      "source": [
        "knc = KNeighborsClassifier()\n",
        "gs = GridSearchCV(knc, param_grid=param_grid)\n",
        "gs.fit(dados_treino, rotulos_treino)\n",
        "gs.best_estimator_"
      ],
      "metadata": {
        "colab": {
          "base_uri": "https://localhost:8080/"
        },
        "id": "3aAI6YwP93d1",
        "outputId": "37579d93-4901-4b34-844c-4f23d531f96d"
      },
      "execution_count": 10,
      "outputs": [
        {
          "output_type": "execute_result",
          "data": {
            "text/plain": [
              "KNeighborsClassifier(metric='manhattan', n_neighbors=11, weights='distance')"
            ]
          },
          "metadata": {},
          "execution_count": 10
        }
      ]
    },
    {
      "cell_type": "code",
      "source": [
        "knc = KNeighborsClassifier(metric='manhattan', n_neighbors=11, weights='distance')\n",
        "knc.fit(dados_treino, rotulos_treino)\n",
        "rotulos_preditos = knc.predict(dados_teste)\n",
        "accuracy_score(rotulos_teste, rotulos_preditos)"
      ],
      "metadata": {
        "colab": {
          "base_uri": "https://localhost:8080/"
        },
        "id": "uNluTQq893jF",
        "outputId": "85760392-c563-4e26-ce83-f4e9c3f42721"
      },
      "execution_count": 11,
      "outputs": [
        {
          "output_type": "execute_result",
          "data": {
            "text/plain": [
              "0.9473684210526315"
            ]
          },
          "metadata": {},
          "execution_count": 11
        }
      ]
    },
    {
      "cell_type": "code",
      "source": [
        "#normalização\n",
        "from sklearn.preprocessing import StandardScaler\n",
        "scaler = StandardScaler().fit(dados_treino)\n",
        "dados_treino_normalizado = scaler.transform(dados_treino)\n",
        "print(dados_treino_normalizado)"
      ],
      "metadata": {
        "colab": {
          "base_uri": "https://localhost:8080/"
        },
        "id": "-bDFH3E693lT",
        "outputId": "ca23af0d-8793-4bab-974c-1f1b09e33f1e"
      },
      "execution_count": 12,
      "outputs": [
        {
          "output_type": "stream",
          "name": "stdout",
          "text": [
            "[[-1.07200079 -0.6584246  -1.0880801  ... -1.35052668 -0.35265805\n",
            "  -0.54138003]\n",
            " [ 1.74874285  0.06650173  1.75115682 ...  1.54991557  0.19107787\n",
            "  -0.1737386 ]\n",
            " [-0.97473376 -0.93112416 -0.99770871 ... -1.70744192 -0.307734\n",
            "  -1.21303263]\n",
            " ...\n",
            " [ 0.39844772  1.06867262  0.50751384 ...  1.53492543  0.16164487\n",
            "   1.23754763]\n",
            " [ 0.85331409 -0.0380331   0.9054796  ...  2.10455077  0.31035897\n",
            "   0.36249578]\n",
            " [-0.91179628 -0.82431683 -0.87666079 ... -0.51332734 -0.50756857\n",
            "   1.30824791]]\n"
          ]
        }
      ]
    },
    {
      "cell_type": "code",
      "source": [
        "param_grid = {'weights': ['uniform', 'distance'],\n",
        "              'n_neighbors': range(1,15,2),\n",
        "              'metric': ['euclidean', 'manhattan']}"
      ],
      "metadata": {
        "id": "j0_2jaDG93n0"
      },
      "execution_count": 13,
      "outputs": []
    },
    {
      "cell_type": "code",
      "source": [
        "knc2 = KNeighborsClassifier()\n",
        "gs = GridSearchCV(knc2, param_grid=param_grid)\n",
        "gs.fit(dados_treino_normalizado, rotulos_treino)\n",
        "gs.best_estimator_"
      ],
      "metadata": {
        "colab": {
          "base_uri": "https://localhost:8080/"
        },
        "id": "i4MKPHqd93qD",
        "outputId": "21990b28-9769-44ef-d60f-8e2feb8252b2"
      },
      "execution_count": 14,
      "outputs": [
        {
          "output_type": "execute_result",
          "data": {
            "text/plain": [
              "KNeighborsClassifier(metric='euclidean', n_neighbors=3)"
            ]
          },
          "metadata": {},
          "execution_count": 14
        }
      ]
    },
    {
      "cell_type": "code",
      "source": [
        "knc2 = KNeighborsClassifier(metric='euclidean', n_neighbors=3)\n",
        "knc2.fit(dados_treino_normalizado, rotulos_treino)\n",
        "rotulos_preditos = knc2.predict(scaler.transform(dados_teste))\n",
        "accuracy_score(rotulos_teste, rotulos_preditos)"
      ],
      "metadata": {
        "colab": {
          "base_uri": "https://localhost:8080/"
        },
        "id": "2GQgzD7q-KDL",
        "outputId": "995e769c-b8d7-45c5-ee7d-61102baddbc7"
      },
      "execution_count": 15,
      "outputs": [
        {
          "output_type": "execute_result",
          "data": {
            "text/plain": [
              "0.9824561403508771"
            ]
          },
          "metadata": {},
          "execution_count": 15
        }
      ]
    }
  ]
}