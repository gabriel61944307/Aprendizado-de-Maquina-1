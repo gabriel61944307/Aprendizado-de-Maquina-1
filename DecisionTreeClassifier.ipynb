{
  "nbformat": 4,
  "nbformat_minor": 0,
  "metadata": {
    "colab": {
      "name": "teste.ipynb",
      "provenance": []
    },
    "kernelspec": {
      "name": "python3",
      "display_name": "Python 3"
    },
    "language_info": {
      "name": "python"
    }
  },
  "cells": [
    {
      "cell_type": "code",
      "execution_count": 1,
      "metadata": {
        "id": "HPqLAYYb75Pv"
      },
      "outputs": [],
      "source": [
        "import numpy as np\n",
        "import matplotlib.pyplot as plt\n",
        "from sklearn.datasets import load_breast_cancer\n",
        "from sklearn.model_selection import train_test_split, cross_val_score\n",
        "from sklearn.metrics import accuracy_score\n",
        "from sklearn.tree import DecisionTreeClassifier"
      ]
    },
    {
      "cell_type": "code",
      "source": [
        "dados = load_breast_cancer()\n",
        "X = dados.data\n",
        "Y = dados.target"
      ],
      "metadata": {
        "id": "MDDtcJS47-AV"
      },
      "execution_count": 2,
      "outputs": []
    },
    {
      "cell_type": "code",
      "source": [
        "dados_treino, dados_teste, rotulos_treino, rotulos_teste = train_test_split(X, Y,\n",
        "                                          test_size = 0.2,\n",
        "                                          random_state=42,\n",
        "                                          stratify=Y)"
      ],
      "metadata": {
        "id": "dc5SzZ8i8AoC"
      },
      "execution_count": 3,
      "outputs": []
    },
    {
      "cell_type": "code",
      "source": [
        "#Arvore de decisão\n",
        "dtc = DecisionTreeClassifier()\n",
        "dtc.fit(dados_treino, rotulos_treino)"
      ],
      "metadata": {
        "colab": {
          "base_uri": "https://localhost:8080/"
        },
        "id": "MAFvOFJ38Ce9",
        "outputId": "992511be-a0be-4350-b7d7-254f8316c9f5"
      },
      "execution_count": 4,
      "outputs": [
        {
          "output_type": "execute_result",
          "data": {
            "text/plain": [
              "DecisionTreeClassifier()"
            ]
          },
          "metadata": {},
          "execution_count": 4
        }
      ]
    },
    {
      "cell_type": "code",
      "source": [
        "rotulos_preditos = dtc.predict(dados_teste)\n",
        "accuracy_score(rotulos_teste, rotulos_preditos)"
      ],
      "metadata": {
        "colab": {
          "base_uri": "https://localhost:8080/"
        },
        "id": "H130Holq8Hs-",
        "outputId": "b01c1b6c-1cf7-469f-a50c-6fbd434794ae"
      },
      "execution_count": 5,
      "outputs": [
        {
          "output_type": "execute_result",
          "data": {
            "text/plain": [
              "0.9035087719298246"
            ]
          },
          "metadata": {},
          "execution_count": 5
        }
      ]
    },
    {
      "cell_type": "code",
      "source": [
        "tr_acc = []\n",
        "tr_std = []"
      ],
      "metadata": {
        "id": "h-phoAsF8KOf"
      },
      "execution_count": 6,
      "outputs": []
    },
    {
      "cell_type": "code",
      "source": [
        "for this_md in range(2,30):\n",
        "  dtc = DecisionTreeClassifier(max_depth=this_md)\n",
        "  dtc.fit(dados_treino, rotulos_treino)\n",
        "  scores = cross_val_score(dtc, dados_treino, rotulos_treino, cv=10)\n",
        "  tr_acc.append(scores.mean())\n",
        "  tr_std.append(np.std(scores))"
      ],
      "metadata": {
        "id": "hAT3jGN58MAa"
      },
      "execution_count": 7,
      "outputs": []
    },
    {
      "cell_type": "code",
      "source": [
        "plt.errorbar(x=range(2,30), y=tr_acc, yerr=tr_std)"
      ],
      "metadata": {
        "colab": {
          "base_uri": "https://localhost:8080/",
          "height": 282
        },
        "id": "K3gnVWK78OQ4",
        "outputId": "07f764b9-9bbf-4f58-c5f5-19ea8f7351b2"
      },
      "execution_count": 8,
      "outputs": [
        {
          "output_type": "execute_result",
          "data": {
            "text/plain": [
              "<ErrorbarContainer object of 3 artists>"
            ]
          },
          "metadata": {},
          "execution_count": 8
        },
        {
          "output_type": "display_data",
          "data": {
            "text/plain": [
              "<Figure size 432x288 with 1 Axes>"
            ],
            "image/png": "[encoded data removed]"
          },
          "metadata": {
            "needs_background": "light"
          }
        }
      ]
    },
    {
      "cell_type": "code",
      "source": [
        "from sklearn.model_selection import GridSearchCV\n",
        "param_grid = {'criterion': ['entropy', 'gini'],\n",
        "              'max_depth': range(2,30,2),\n",
        "              'min_samples_leaf': range(2,10,2),\n",
        "              'min_impurity_decrease': np.linspace(0,0.5,10)}"
      ],
      "metadata": {
        "id": "MVr2kZn_8P0d"
      },
      "execution_count": 9,
      "outputs": []
    },
    {
      "cell_type": "code",
      "source": [
        "dtc = DecisionTreeClassifier()\n",
        "gs = GridSearchCV(dtc, param_grid=param_grid)\n",
        "gs.fit(dados_treino, rotulos_treino)\n",
        "gs.best_estimator_"
      ],
      "metadata": {
        "colab": {
          "base_uri": "https://localhost:8080/"
        },
        "id": "gKAxyxwp8SFC",
        "outputId": "859da6c2-54df-43f5-f702-31de24f33497"
      },
      "execution_count": 10,
      "outputs": [
        {
          "output_type": "execute_result",
          "data": {
            "text/plain": [
              "DecisionTreeClassifier(criterion='entropy', max_depth=4, min_samples_leaf=2)"
            ]
          },
          "metadata": {},
          "execution_count": 10
        }
      ]
    },
    {
      "cell_type": "code",
      "source": [
        "dtc = DecisionTreeClassifier(criterion='entropy', max_depth=20, min_samples_leaf=8)\n",
        "dtc.fit(dados_treino, rotulos_treino)\n",
        "rotulos_preditos = dtc.predict(dados_teste)\n",
        "accuracy_score(rotulos_teste, rotulos_preditos)"
      ],
      "metadata": {
        "colab": {
          "base_uri": "https://localhost:8080/"
        },
        "id": "lzM5gjaV8UrW",
        "outputId": "efc82adb-3949-4338-cefd-2c015f63265a"
      },
      "execution_count": 11,
      "outputs": [
        {
          "output_type": "execute_result",
          "data": {
            "text/plain": [
              "0.9385964912280702"
            ]
          },
          "metadata": {},
          "execution_count": 11
        }
      ]
    }
  ]
}